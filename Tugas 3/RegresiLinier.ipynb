{
 "cells": [
  {
   "cell_type": "code",
   "execution_count": 30,
   "metadata": {},
   "outputs": [],
   "source": [
    "import seaborn as sns\n",
    "import matplotlib.pyplot as plt\n",
    "jumlah_penjualanX = 0\n",
    "total_penjualanY = 0\n",
    "kelipatan_penjualan = 0\n",
    "hasil_sementara = []\n",
    "hasil_akhir = []\n",
    "nilai_xy = 0\n",
    "import pandas as pd\n",
    "data_penjualan = [114, 312, 400,325,400,600,560,470,360,730,540,810]"
   ]
  },
  {
   "cell_type": "code",
   "execution_count": 31,
   "metadata": {},
   "outputs": [],
   "source": [
    "banyak_penjualan = len(data_penjualan)"
   ]
  },
  {
   "cell_type": "code",
   "execution_count": 32,
   "metadata": {},
   "outputs": [],
   "source": [
    "for i in range(banyak_penjualan):\n",
    "    total_penjualanY = total_penjualanY + data_penjualan[i]\n",
    "    jumlah_penjualanX = jumlah_penjualanX + (i+1)\n",
    "    kelipatan_penjualan = kelipatan_penjualan + (data_penjualan[i]^2)\n",
    "    nilai_xy = nilai_xy + ((i+1) * data_penjualan[i])"
   ]
  },
  {
   "cell_type": "code",
   "execution_count": 33,
   "metadata": {},
   "outputs": [
    {
     "name": "stdout",
     "output_type": "stream",
     "text": [
      "1.09838007522137\n"
     ]
    }
   ],
   "source": [
    "b = ((banyak_penjualan * (nilai_xy)) - (total_penjualanY * jumlah_penjualanX)) / ((banyak_penjualan * kelipatan_penjualan) - (banyak_penjualan^2))\n",
    "print(b)"
   ]
  },
  {
   "cell_type": "code",
   "execution_count": 34,
   "metadata": {},
   "outputs": [],
   "source": [
    "a= ((total_penjualanY) - (b * jumlah_penjualanX)) / banyak_penjualan"
   ]
  },
  {
   "cell_type": "code",
   "execution_count": 35,
   "metadata": {},
   "outputs": [
    {
     "name": "stdout",
     "output_type": "stream",
     "text": [
      "[[1, 462.37557625294914], [2, 463.4739563281705], [3, 464.5723364033919], [4, 465.67071647861326], [5, 466.76909655383463]]\n"
     ]
    }
   ],
   "source": [
    "\n",
    "\n",
    "for k in range(5):\n",
    "    y = a + (b * (k+1))\n",
    "    hasil_sementara.append(k+1)\n",
    "    hasil_sementara.append(y)\n",
    "    hasil_akhir.append(hasil_sementara)\n",
    "    hasil_sementara = []\n",
    "df = pd.DataFrame(hasil_akhir, columns=[\"x\", \"y\"])\n",
    "df[\"val\"] = pd.Series([1, -1, 1]).apply(lambda x: \"red\" if x==1 else \"blue\")\n",
    "print(hasil_akhir)"
   ]
  },
  {
   "cell_type": "code",
   "execution_count": 36,
   "metadata": {},
   "outputs": [
    {
     "data": {
      "text/plain": [
       "<matplotlib.axes._subplots.AxesSubplot at 0x2325cd10fd0>"
      ]
     },
     "execution_count": 36,
     "metadata": {},
     "output_type": "execute_result"
    },
    {
     "data": {
      "image/png": "[encoded data removed]",
      "text/plain": [
       "<Figure size 432x288 with 1 Axes>"
      ]
     },
     "metadata": {
      "needs_background": "light"
     },
     "output_type": "display_data"
    }
   ],
   "source": [
    "sns.lineplot(x=\"x\", y=\"y\", data=df)"
   ]
  },
  {
   "cell_type": "markdown",
   "metadata": {},
   "source": []
  },
  {
   "cell_type": "code",
   "execution_count": null,
   "metadata": {},
   "outputs": [],
   "source": []
  },
  {
   "cell_type": "code",
   "execution_count": null,
   "metadata": {},
   "outputs": [],
   "source": []
  },
  {
   "cell_type": "code",
   "execution_count": null,
   "metadata": {},
   "outputs": [],
   "source": []
  },
  {
   "cell_type": "code",
   "execution_count": null,
   "metadata": {},
   "outputs": [],
   "source": []
  },
  {
   "cell_type": "code",
   "execution_count": null,
   "metadata": {},
   "outputs": [],
   "source": []
  }
 ],
 "metadata": {
  "kernelspec": {
   "display_name": "Python 3",
   "language": "python",
   "name": "python3"
  },
  "language_info": {
   "codemirror_mode": {
    "name": "ipython",
    "version": 3
   },
   "file_extension": ".py",
   "mimetype": "text/x-python",
   "name": "python",
   "nbconvert_exporter": "python",
   "pygments_lexer": "ipython3",
   "version": "3.6.8"
  }
 },
 "nbformat": 4,
 "nbformat_minor": 2
}
